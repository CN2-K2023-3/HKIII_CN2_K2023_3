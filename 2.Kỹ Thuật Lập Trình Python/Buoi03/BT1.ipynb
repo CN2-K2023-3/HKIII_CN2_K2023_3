{
 "cells": [
  {
   "cell_type": "code",
   "execution_count": 1,
   "metadata": {},
   "outputs": [
    {
     "name": "stdout",
     "output_type": "stream",
     "text": [
      "Học lực Trung bình\n"
     ]
    }
   ],
   "source": [
    "gpa = float(input(\"Nhập vào điểm trung bình: \"))\n",
    "if gpa < 3.5:\n",
    "  print(\"Học lực Kém\")\n",
    "elif gpa < 5:\n",
    "  print(\"Học lực Yếu\")\n",
    "elif gpa < 7:\n",
    "  print(\"Học lực Trung bình\")\n",
    "elif gpa < 8:\n",
    "  print(\"Học lực Khá\")\n",
    "elif gpa < 9:\n",
    "  print(\"Học lực Giỏi\")\n",
    "elif gpa <= 10:\n",
    "  print(\"Học lực Xuất sắc\")\n",
    "else:\n",
    "  print(\"Điểm không hợp lệ\")"
   ]
  },
  {
   "cell_type": "code",
   "execution_count": null,
   "metadata": {},
   "outputs": [],
   "source": []
  }
 ],
 "metadata": {
  "kernelspec": {
   "display_name": "Python 3",
   "language": "python",
   "name": "python3"
  },
  "language_info": {
   "codemirror_mode": {
    "name": "ipython",
    "version": 3
   },
   "file_extension": ".py",
   "mimetype": "text/x-python",
   "name": "python",
   "nbconvert_exporter": "python",
   "pygments_lexer": "ipython3",
   "version": "3.12.3"
  }
 },
 "nbformat": 4,
 "nbformat_minor": 2
}
