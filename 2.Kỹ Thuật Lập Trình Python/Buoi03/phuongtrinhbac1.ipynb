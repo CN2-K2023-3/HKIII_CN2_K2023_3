{
 "cells": [
  {
   "cell_type": "code",
   "execution_count": 2,
   "metadata": {},
   "outputs": [],
   "source": [
    "a = float(input(\"Nhập a: \"))\n",
    "\n",
    "b = float(input(\"Nhập b: \"))\n"
   ]
  },
  {
   "cell_type": "code",
   "execution_count": 3,
   "metadata": {},
   "outputs": [
    {
     "name": "stdout",
     "output_type": "stream",
     "text": [
      "Phương trình có nghiệm duy nhất x =  -0.75\n"
     ]
    }
   ],
   "source": [
    "if a == 0:\n",
    "  if b == 0:\n",
    "    print(\"Phương trình có vô số nghiệm\")\n",
    "  else:\n",
    "    print(\"Phương trình vô nghiệm\")\n",
    "else:\n",
    "  x = -b/a\n",
    "  print(\"Phương trình có nghiệm duy nhất x = \", x)"
   ]
  }
 ],
 "metadata": {
  "kernelspec": {
   "display_name": "Python 3",
   "language": "python",
   "name": "python3"
  },
  "language_info": {
   "codemirror_mode": {
    "name": "ipython",
    "version": 3
   },
   "file_extension": ".py",
   "mimetype": "text/x-python",
   "name": "python",
   "nbconvert_exporter": "python",
   "pygments_lexer": "ipython3",
   "version": "3.12.3"
  }
 },
 "nbformat": 4,
 "nbformat_minor": 2
}
