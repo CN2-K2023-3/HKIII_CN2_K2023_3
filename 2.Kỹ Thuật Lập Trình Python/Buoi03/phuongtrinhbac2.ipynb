{
 "cells": [
  {
   "cell_type": "code",
   "execution_count": 3,
   "metadata": {},
   "outputs": [],
   "source": [
    "a = float(input(\"Nhập a: \"))\n",
    "\n",
    "b = float(input(\"Nhập b: \"))\n",
    "\n",
    "c = float(input(\"Nhập c: \"))\n"
   ]
  },
  {
   "cell_type": "code",
   "execution_count": 4,
   "metadata": {},
   "outputs": [
    {
     "name": "stdout",
     "output_type": "stream",
     "text": [
      "Phương trình có 2 nghiệm phân biệt\n",
      "x1 =  50.0\n",
      "x2 =  -1.0\n"
     ]
    }
   ],
   "source": [
    "if a == 0:\n",
    "  if b == 0:\n",
    "    if c == 0:\n",
    "      print(\"Phương trình vô số nghiệm\")\n",
    "    else:\n",
    "      print(\"Phương trình vô nghiệm\")\n",
    "  else:\n",
    "    print(\"Phương trình có nghiệm x = \", -c/b)\n",
    "else:\n",
    "  delta = b**2 - 4*a*c\n",
    "  if delta < 0:\n",
    "    print(\"Phương trình vô nghiệm\")\n",
    "  elif delta == 0:\n",
    "    print(\"Phương trình có nghiệm kép x = \", -b/(2*a))\n",
    "  else:\n",
    "    print(\"Phương trình có 2 nghiệm phân biệt\")\n",
    "    print(\"x1 = \", (-b + delta**0.5)/(2*a))\n",
    "    print(\"x2 = \", (-b - delta**0.5)/(2*a))"
   ]
  },
  {
   "cell_type": "code",
   "execution_count": null,
   "metadata": {},
   "outputs": [],
   "source": []
  }
 ],
 "metadata": {
  "kernelspec": {
   "display_name": "Python 3",
   "language": "python",
   "name": "python3"
  },
  "language_info": {
   "codemirror_mode": {
    "name": "ipython",
    "version": 3
   },
   "file_extension": ".py",
   "mimetype": "text/x-python",
   "name": "python",
   "nbconvert_exporter": "python",
   "pygments_lexer": "ipython3",
   "version": "3.12.3"
  }
 },
 "nbformat": 4,
 "nbformat_minor": 2
}
