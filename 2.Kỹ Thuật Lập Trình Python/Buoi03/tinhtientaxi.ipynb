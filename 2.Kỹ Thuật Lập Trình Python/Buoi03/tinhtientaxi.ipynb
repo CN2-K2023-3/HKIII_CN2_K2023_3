{
 "cells": [
  {
   "cell_type": "code",
   "execution_count": 2,
   "metadata": {},
   "outputs": [],
   "source": [
    "totalPrice = 0\n",
    "firstKm = 20000\n",
    "thirdKm = 13000\n",
    "fourthToEightKm = 12000\n",
    "fixPrice = 10000\n",
    "discount = 0.08"
   ]
  },
  {
   "cell_type": "code",
   "execution_count": 3,
   "metadata": {},
   "outputs": [],
   "source": [
    "distance = float(input(\"Nhập số Km quãng đường đi được: \"))"
   ]
  },
  {
   "cell_type": "code",
   "execution_count": 4,
   "metadata": {},
   "outputs": [],
   "source": [
    "if distance <= 1:\n",
    "  totalPrice = 20000\n",
    "elif distance <= 3:\n",
    "  totalPrice = thirdKm * distance\n",
    "elif distance <= 8:\n",
    "  totalPrice = thirdKm * 3 + fourthToEightKm * (distance - 3)\n",
    "else:\n",
    "  totalPrice = thirdKm * 3 + fourthToEightKm * 5 + firstKm * (distance - 8)"
   ]
  },
  {
   "cell_type": "code",
   "execution_count": 5,
   "metadata": {},
   "outputs": [],
   "source": [
    "if totalPrice > 100000:\n",
    "  totalPrice = totalPrice - totalPrice * discount"
   ]
  },
  {
   "cell_type": "code",
   "execution_count": 6,
   "metadata": {},
   "outputs": [
    {
     "name": "stdout",
     "output_type": "stream",
     "text": [
      "Giá tiền phải trả là:  63000.0\n"
     ]
    }
   ],
   "source": [
    "print(\"Giá tiền phải trả là: \", totalPrice)"
   ]
  },
  {
   "cell_type": "code",
   "execution_count": null,
   "metadata": {},
   "outputs": [],
   "source": []
  }
 ],
 "metadata": {
  "kernelspec": {
   "display_name": "Python 3",
   "language": "python",
   "name": "python3"
  },
  "language_info": {
   "codemirror_mode": {
    "name": "ipython",
    "version": 3
   },
   "file_extension": ".py",
   "mimetype": "text/x-python",
   "name": "python",
   "nbconvert_exporter": "python",
   "pygments_lexer": "ipython3",
   "version": "3.12.3"
  }
 },
 "nbformat": 4,
 "nbformat_minor": 2
}
