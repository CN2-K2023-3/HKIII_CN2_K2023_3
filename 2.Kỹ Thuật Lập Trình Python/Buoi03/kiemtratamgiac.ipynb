{
 "cells": [
  {
   "cell_type": "code",
   "execution_count": 1,
   "metadata": {},
   "outputs": [],
   "source": [
    "a = float(input(\"Nhập độ dài cạnh a: \"))\n",
    "\n",
    "b = float(input(\"Nhập độ dài cạnh b: \"))\n",
    "\n",
    "c = float(input(\"Nhập độ dài cạnh c: \"))\n"
   ]
  },
  {
   "cell_type": "code",
   "execution_count": 2,
   "metadata": {},
   "outputs": [
    {
     "name": "stdout",
     "output_type": "stream",
     "text": [
      "Đây là một tam giác\n"
     ]
    }
   ],
   "source": [
    "isTriangle = False\n",
    "if a != 0 and b != 0 and c != 0:\n",
    "  if a + b > c and a + c > b and b + c > a:\n",
    "    print(\"Đây là một tam giác\")\n",
    "    isTriangle = True\n",
    "  else:\n",
    "    print(\"Đây không phải là tam giác\")"
   ]
  },
  {
   "cell_type": "code",
   "execution_count": 3,
   "metadata": {},
   "outputs": [
    {
     "name": "stdout",
     "output_type": "stream",
     "text": [
      "Đây là tam giác đều\n"
     ]
    }
   ],
   "source": [
    "if isTriangle:\n",
    "  if a == b and b == c:\n",
    "    print(\"Đây là tam giác đều\")\n",
    "  elif a == b or a == c or b == c:\n",
    "    print(\"Đây là tam giác cân\")\n",
    "  elif a*a + b*b == c*c or a*a + c*c == b*b or b*b + c*c == a*a:\n",
    "    print(\"Đây là tam giác vuông\")\n",
    "  else:\n",
    "    print(\"Đây là tam giác thường\")"
   ]
  }
 ],
 "metadata": {
  "kernelspec": {
   "display_name": "Python 3",
   "language": "python",
   "name": "python3"
  },
  "language_info": {
   "codemirror_mode": {
    "name": "ipython",
    "version": 3
   },
   "file_extension": ".py",
   "mimetype": "text/x-python",
   "name": "python",
   "nbconvert_exporter": "python",
   "pygments_lexer": "ipython3",
   "version": "3.12.3"
  }
 },
 "nbformat": 4,
 "nbformat_minor": 2
}
