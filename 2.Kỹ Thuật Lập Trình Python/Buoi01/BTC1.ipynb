{
 "cells": [
  {
   "cell_type": "code",
   "execution_count": 2,
   "metadata": {},
   "outputs": [
    {
     "name": "stdout",
     "output_type": "stream",
     "text": [
      "Bạn đã nhập: go\n",
      "Kiểu dữ liệu bạn đã nhập là:  <class 'str'>\n"
     ]
    }
   ],
   "source": [
    "# Nhập thông tin từ bàn phím\n",
    "data = input(\"Nhập thông tin: \")\n",
    "\n",
    "# In ra chuỗi\n",
    "print(\"Bạn đã nhập:\", data)\n",
    "\n",
    "# Kiểm tra kiểu dữ liệu\n",
    "print(\"Kiểu dữ liệu bạn đã nhập là: \", type(data))"
   ]
  },
  {
   "cell_type": "code",
   "execution_count": 5,
   "metadata": {},
   "outputs": [
    {
     "name": "stdout",
     "output_type": "stream",
     "text": [
      "Hello World\n",
      "HelloWorld\n"
     ]
    }
   ],
   "source": [
    "string1 = input(\"Nhập chuỗi thứ nhất: \")\n",
    "string2 = input(\"Nhập chuỗi thứ hai: \")\n",
    "\n",
    "# Kết hợp bằng dấu phẩy\n",
    "print(string1, string2)\n",
    "\n",
    "# Kết hợp bằng dấu cộng\n",
    "print(string1 + string2)"
   ]
  },
  {
   "cell_type": "code",
   "execution_count": 7,
   "metadata": {},
   "outputs": [
    {
     "name": "stdout",
     "output_type": "stream",
     "text": [
      "Xin chào, Vương!\n"
     ]
    }
   ],
   "source": [
    "print(\"Xin chào,\", input(\"Nhập tên của bạn: \") + \"!\")"
   ]
  },
  {
   "cell_type": "code",
   "execution_count": null,
   "metadata": {},
   "outputs": [],
   "source": []
  }
 ],
 "metadata": {
  "kernelspec": {
   "display_name": "Python 3",
   "language": "python",
   "name": "python3"
  },
  "language_info": {
   "codemirror_mode": {
    "name": "ipython",
    "version": 3
   },
   "file_extension": ".py",
   "mimetype": "text/x-python",
   "name": "python",
   "nbconvert_exporter": "python",
   "pygments_lexer": "ipython3",
   "version": "3.12.3"
  }
 },
 "nbformat": 4,
 "nbformat_minor": 2
}
