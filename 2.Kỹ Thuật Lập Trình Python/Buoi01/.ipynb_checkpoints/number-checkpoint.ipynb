{
 "cells": [
  {
   "cell_type": "code",
   "execution_count": null,
   "id": "d0da4f28-5179-4abb-926b-81f12883c27e",
   "metadata": {},
   "outputs": [],
   "source": [
    "#Nhap so thu nhat\n",
    "num1 = input(\"Nhap so thu nhat: \")\n",
    "\n",
    "# Nhap so thu hai\n",
    "num2 = input(\"Nhap so thu hai: \")\n",
    "\n",
    "num1= int(num1)\n",
    "num2 = int(num2)\n",
    "\n",
    "total = num1 + num2\n",
    "\n",
    "print(f\"Tong cua {num1} va {num2} la: {total}\")"
   ]
  }
 ],
 "metadata": {
  "kernelspec": {
   "display_name": "Python 3 (ipykernel)",
   "language": "python",
   "name": "python3"
  },
  "language_info": {
   "codemirror_mode": {
    "name": "ipython",
    "version": 3
   },
   "file_extension": ".py",
   "mimetype": "text/x-python",
   "name": "python",
   "nbconvert_exporter": "python",
   "pygments_lexer": "ipython3",
   "version": "3.12.4"
  }
 },
 "nbformat": 4,
 "nbformat_minor": 5
}
