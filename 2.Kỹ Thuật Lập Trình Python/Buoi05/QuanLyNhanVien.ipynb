{
 "cells": [
  {
   "cell_type": "code",
   "execution_count": 35,
   "metadata": {},
   "outputs": [],
   "source": [
    "# Viết chương trình quản lý nhân viên cho một công ty có tối đa 300 nhân viên. Công\n",
    "# ty gồm 2 loại nhân viên: nhân viên văn phòng và nhân viên bán hàng. Công ty cần\n",
    "# quản lý các thông tin sau của nhân viên: mã nhân viên, họ và tên, lương cơ bản,\n",
    "# lương hằng tháng.\n",
    "# Lương hằng tháng tính bằng công thức sau:\n",
    "# • NV văn phòng = lương cơ bản + số ngày là việc * 150000đ\n",
    "# • NV bán hàng = lương cơ bản + số sản phẩm *18000đ\n",
    "# employees_list là danh sách chứa thông tin của các nhân viên.\n",
    "\n",
    "employees_list = []\n",
    "# Gioi han so nhan vien\n",
    "MAX_EMPLOYEES = 300\n",
    "def append_employee(employee):\n",
    "  if len(employees_list) < MAX_EMPLOYEES:\n",
    "    employees_list.append(employee)\n",
    "  else:\n",
    "    print('Danh sách nhân viên đã đầy')\n",
    "  return\n",
    "\n",
    "# Thông tin nhân viên gồm: mã nhân viên (NVBHxxxx, NVVPxxxx), họ và tên, lương cơ bản, lương hằng tháng\n",
    "employee = {\n",
    "  'maNV': '',\n",
    "  'hoTen': '',\n",
    "  'luongCB': 0,\n",
    "  'luongThang': 0\n",
    "}\n",
    "\n",
    "# 1. Khởi tạo tự động các nhân viên. Chỉ cung cấp: maNV, hoTen, luongCB\n",
    "def input_employee(list):\n",
    "  new_employee = employee.copy()\n",
    "  new_employee['hoTen'] = list[0]\n",
    "  new_employee['maNV'] = list[1]\n",
    "  new_employee['luongCB'] = list[2]\n",
    "  append_employee(new_employee)\n",
    "  return\n",
    "\n",
    "# 2. Xuất các nhân viên (mã nhân viên, họ tên, lương cơ bản, hằng tháng)\n",
    "def print_employee(empl):\n",
    "  print('Mã nhân viên:', empl['maNV'])\n",
    "  print('Họ tên:', empl['hoTen'])\n",
    "  print('Lương cơ bản:', empl['luongCB'])\n",
    "  print('Lương hằng tháng:', empl['luongThang'])\n",
    "  return\n",
    "# Xuat danh sach nhan vien\n",
    "def output_employee(list):\n",
    "  for item in list:\n",
    "    print_employee(item)\n",
    "  return\n",
    "\n",
    "# 3. Tính lương các nhân viên\n",
    "def calculate_salary(employees_list):\n",
    "  for item in employees_list:\n",
    "    if \"NVBH\" in item['maNV']:\n",
    "      item['luongThang'] = item['luongCB'] + int(input('Nhập số sản phẩm: ')) * 18000\n",
    "    elif \"NVVP\" in item['maNV']:\n",
    "      item['luongThang'] = item['luongCB'] + int(input('Nhập số ngày làm việc: ')) * 150000\n",
    "  return\n",
    "\n",
    "# 4. Tìm nhân viên theo mã nhân viên\n",
    "def find_employee_by_id(employees_list, id):\n",
    "  for item in employees_list:\n",
    "    if item['maNV'] == id:\n",
    "      print_employee(item)\n",
    "      return item\n",
    "\n",
    "# 5. Tìm nhân viên có lương hằng tháng cao nhất\n",
    "def find_max_salary(list_nv):\n",
    "  max_salary = 0\n",
    "  id = []\n",
    "  list_max_salary = []\n",
    "  for item in list_nv:\n",
    "    if item['luongThang'] > max_salary:\n",
    "      max_salary = item['luongThang']\n",
    "      id = item['maNV']\n",
    "  for item in list_nv:\n",
    "    if item['maNV'] in id:\n",
    "      print_employee(item)\n",
    "      list_max_salary.append(item)\n",
    "  return list_max_salary\n",
    "\n",
    "# 6. Tìm nhân viên bán hàng có lương hằng tháng thấp nhất\n",
    "def find_min_salary_NVBH(list_nv):\n",
    "  min_salary = 999999999\n",
    "  id = []\n",
    "  list_min_salary = []\n",
    "  for item in list_nv:\n",
    "    if \"NVBH\" in item['maNV']:\n",
    "      if item['luongThang'] < min_salary:\n",
    "        min_salary = item['luongThang']\n",
    "        id = item['maNV']\n",
    "  for item in list_nv:\n",
    "    if item['maNV'] in id:\n",
    "      print_employee(item)\n",
    "      list_min_salary.append(item)\n",
    "  return list_min_salary\n"
   ]
  },
  {
   "cell_type": "code",
   "execution_count": 36,
   "metadata": {},
   "outputs": [],
   "source": [
    "# Khoi tao nhan vien\n",
    "input_employee(['Nguyen Van A', 'NVBH001', 4500000])\n",
    "input_employee(['Nguyen Van B', 'NVVP001', 5300000])\n",
    "input_employee(['Nguyen Van C', 'NVBH002', 4400000])\n",
    "input_employee(['Nguyen Van D', 'NVVP002', 5600000])"
   ]
  },
  {
   "cell_type": "code",
   "execution_count": 37,
   "metadata": {},
   "outputs": [],
   "source": [
    "# Tinh luong\n",
    "calculate_salary(employees_list)"
   ]
  },
  {
   "cell_type": "code",
   "execution_count": 38,
   "metadata": {},
   "outputs": [
    {
     "name": "stdout",
     "output_type": "stream",
     "text": [
      "Mã nhân viên: NVBH001\n",
      "Họ tên: Nguyen Van A\n",
      "Lương cơ bản: 4500000\n",
      "Lương hằng tháng: 15300000\n",
      "Mã nhân viên: NVVP001\n",
      "Họ tên: Nguyen Van B\n",
      "Lương cơ bản: 5300000\n",
      "Lương hằng tháng: 9200000\n",
      "Mã nhân viên: NVBH002\n",
      "Họ tên: Nguyen Van C\n",
      "Lương cơ bản: 4400000\n",
      "Lương hằng tháng: 17000000\n",
      "Mã nhân viên: NVVP002\n",
      "Họ tên: Nguyen Van D\n",
      "Lương cơ bản: 5600000\n",
      "Lương hằng tháng: 9350000\n",
      "[{'maNV': 'NVBH001', 'hoTen': 'Nguyen Van A', 'luongCB': 4500000, 'luongThang': 15300000}, {'maNV': 'NVVP001', 'hoTen': 'Nguyen Van B', 'luongCB': 5300000, 'luongThang': 9200000}, {'maNV': 'NVBH002', 'hoTen': 'Nguyen Van C', 'luongCB': 4400000, 'luongThang': 17000000}, {'maNV': 'NVVP002', 'hoTen': 'Nguyen Van D', 'luongCB': 5600000, 'luongThang': 9350000}]\n"
     ]
    }
   ],
   "source": [
    "# Xuat thong tin nhan vien\n",
    "output_employee(employees_list)\n",
    "print(employees_list)"
   ]
  },
  {
   "cell_type": "code",
   "execution_count": 39,
   "metadata": {},
   "outputs": [
    {
     "name": "stdout",
     "output_type": "stream",
     "text": [
      "Mã nhân viên: NVBH001\n",
      "Họ tên: Nguyen Van A\n",
      "Lương cơ bản: 4500000\n",
      "Lương hằng tháng: 15300000\n"
     ]
    }
   ],
   "source": [
    "# Tim nhan vien theo ma nhan vien NVBH001\n",
    "result_emp = find_employee_by_id(employees_list, 'NVBH001')"
   ]
  },
  {
   "cell_type": "code",
   "execution_count": 40,
   "metadata": {},
   "outputs": [
    {
     "name": "stdout",
     "output_type": "stream",
     "text": [
      "Mã nhân viên: NVBH002\n",
      "Họ tên: Nguyen Van C\n",
      "Lương cơ bản: 4400000\n",
      "Lương hằng tháng: 17000000\n"
     ]
    }
   ],
   "source": [
    "# Tim nhan vien co luong cao nhat\n",
    "max_salary_emp = find_max_salary(employees_list)"
   ]
  },
  {
   "cell_type": "code",
   "execution_count": 41,
   "metadata": {},
   "outputs": [
    {
     "name": "stdout",
     "output_type": "stream",
     "text": [
      "Mã nhân viên: NVBH001\n",
      "Họ tên: Nguyen Van A\n",
      "Lương cơ bản: 4500000\n",
      "Lương hằng tháng: 15300000\n"
     ]
    }
   ],
   "source": [
    "# Tim nhan vien ban hang co luong thap nhat\n",
    "min_salary_NVBH = find_min_salary_NVBH(employees_list)"
   ]
  }
 ],
 "metadata": {
  "kernelspec": {
   "display_name": "Python 3",
   "language": "python",
   "name": "python3"
  },
  "language_info": {
   "codemirror_mode": {
    "name": "ipython",
    "version": 3
   },
   "file_extension": ".py",
   "mimetype": "text/x-python",
   "name": "python",
   "nbconvert_exporter": "python",
   "pygments_lexer": "ipython3",
   "version": "3.12.3"
  }
 },
 "nbformat": 4,
 "nbformat_minor": 2
}
