{
 "cells": [
  {
   "cell_type": "code",
   "execution_count": 18,
   "metadata": {},
   "outputs": [
    {
     "data": {
      "text/plain": [
       "2.1213203435596424"
      ]
     },
     "execution_count": 18,
     "metadata": {},
     "output_type": "execute_result"
    }
   ],
   "source": [
    "# Căn bậc 2 từ một số thực\n",
    "import math\n",
    "\n",
    "def calculateSqrt(floatNumber):\n",
    "  if floatNumber < 0:\n",
    "    print(\"Số thực phải không âm\")\n",
    "    return\n",
    "  return math.sqrt(floatNumber)\n",
    "\n",
    "calculateSqrt(4.5)"
   ]
  },
  {
   "cell_type": "code",
   "execution_count": 17,
   "metadata": {},
   "outputs": [
    {
     "name": "stdout",
     "output_type": "stream",
     "text": [
      "Số phải là số dương\n"
     ]
    }
   ],
   "source": [
    "def calculateSquareActiveNum(activeNumber):\n",
    "  if activeNumber < 0:\n",
    "    print(\"Số phải là số dương\")\n",
    "    return\n",
    "  return activeNumber ** 2\n",
    "\n",
    "calculateSquareActiveNum(-6)"
   ]
  },
  {
   "cell_type": "code",
   "execution_count": 10,
   "metadata": {},
   "outputs": [
    {
     "name": "stdout",
     "output_type": "stream",
     "text": [
      "True\n"
     ]
    }
   ],
   "source": [
    "def checkInputEvenNegatve():\n",
    "  number = int(input(\"Nhập số chẵn có giá trị âm: \"))\n",
    "  if number < 0 and number % 2 == 0:\n",
    "    return True\n",
    "  return False\n",
    "\n",
    "print(checkInputEvenNegatve())"
   ]
  },
  {
   "cell_type": "code",
   "execution_count": 11,
   "metadata": {},
   "outputs": [
    {
     "name": "stdout",
     "output_type": "stream",
     "text": [
      "1\n"
     ]
    }
   ],
   "source": [
    "def checkInputNumber():\n",
    "  number = int(input(\"Nhập số: \"))\n",
    "  if number < 0 and number % 2 != 0:\n",
    "    return -1\n",
    "  elif number > 0 and number % 2 == 0:\n",
    "    return 1\n",
    "  else:\n",
    "    return 0\n",
    "\n",
    "print(checkInputNumber())"
   ]
  },
  {
   "cell_type": "code",
   "execution_count": 14,
   "metadata": {},
   "outputs": [],
   "source": [
    "def checkNumInRange():\n",
    "  isFalse = True\n",
    "  while isFalse:\n",
    "    number = int(input(\"Nhập số: \"))\n",
    "    if number in range(-89, 90):\n",
    "      isFalse = False\n",
    "    \n",
    "checkNumInRange()"
   ]
  }
 ],
 "metadata": {
  "kernelspec": {
   "display_name": "Python 3",
   "language": "python",
   "name": "python3"
  },
  "language_info": {
   "codemirror_mode": {
    "name": "ipython",
    "version": 3
   },
   "file_extension": ".py",
   "mimetype": "text/x-python",
   "name": "python",
   "nbconvert_exporter": "python",
   "pygments_lexer": "ipython3",
   "version": "3.12.3"
  }
 },
 "nbformat": 4,
 "nbformat_minor": 2
}
