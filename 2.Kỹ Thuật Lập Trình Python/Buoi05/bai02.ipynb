{
 "cells": [
  {
   "cell_type": "code",
   "execution_count": 2,
   "metadata": {},
   "outputs": [],
   "source": [
    "# Cho danh sách sau:\n",
    "# [('Tiền Giang', 63), ('Long An', 62), ('Vĩnh Long', 64), ('Bình Dương', 60)]\n",
    "# Sắp xếp các phần tử trong danh sách tăng dần theo số."
   ]
  },
  {
   "cell_type": "code",
   "execution_count": 3,
   "metadata": {},
   "outputs": [],
   "source": [
    "list = [('Tiền Giang', 63), ('Long An', 62), ('Vĩnh Long', 64), ('Bình Dương', 60)]"
   ]
  },
  {
   "cell_type": "code",
   "execution_count": 4,
   "metadata": {},
   "outputs": [
    {
     "name": "stdout",
     "output_type": "stream",
     "text": [
      "[('Bình Dương', 60), ('Long An', 62), ('Tiền Giang', 63), ('Vĩnh Long', 64)]\n"
     ]
    }
   ],
   "source": [
    "# Dung for loop\n",
    "def sort_list(lst):\n",
    "  for i in range(len(lst)):\n",
    "    for j in range(i + 1, len(lst)):\n",
    "      if lst[i][1] > lst[j][1]:\n",
    "        lst[i], lst[j] = lst[j], lst[i]\n",
    "  return lst\n",
    "new_list = sort_list(list)\n",
    "print(new_list)"
   ]
  },
  {
   "cell_type": "code",
   "execution_count": null,
   "metadata": {},
   "outputs": [
    {
     "name": "stdout",
     "output_type": "stream",
     "text": [
      "[('Bình Dương', 60), ('Long An', 62), ('Tiền Giang', 63), ('Vĩnh Long', 64)]\n"
     ]
    }
   ],
   "source": [
    "new_list = sorted(list, key=lambda x: x[1])\n",
    "print(new_list)"
   ]
  },
  {
   "cell_type": "code",
   "execution_count": null,
   "metadata": {},
   "outputs": [],
   "source": []
  }
 ],
 "metadata": {
  "kernelspec": {
   "display_name": "Python 3",
   "language": "python",
   "name": "python3"
  },
  "language_info": {
   "codemirror_mode": {
    "name": "ipython",
    "version": 3
   },
   "file_extension": ".py",
   "mimetype": "text/x-python",
   "name": "python",
   "nbconvert_exporter": "python",
   "pygments_lexer": "ipython3",
   "version": "3.12.3"
  }
 },
 "nbformat": 4,
 "nbformat_minor": 2
}
