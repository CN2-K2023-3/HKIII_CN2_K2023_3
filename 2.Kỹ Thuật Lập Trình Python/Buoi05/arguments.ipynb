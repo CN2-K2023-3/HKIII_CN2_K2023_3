{
 "cells": [
  {
   "cell_type": "code",
   "execution_count": 1,
   "metadata": {},
   "outputs": [
    {
     "name": "stdout",
     "output_type": "stream",
     "text": [
      "Sum: 10, Product: 24\n"
     ]
    }
   ],
   "source": [
    "def sum_and_product(*args):\n",
    "  total_sum = sum(args)\n",
    "  total_product = 1\n",
    "  for num in args:\n",
    "    total_product *= num\n",
    "  return total_sum, total_product\n",
    "\n",
    "# Example usage\n",
    "numbers = [1, 2, 3, 4]\n",
    "result = sum_and_product(*numbers)\n",
    "print(f\"Sum: {result[0]}, Product: {result[1]}\")"
   ]
  },
  {
   "cell_type": "code",
   "execution_count": null,
   "metadata": {},
   "outputs": [],
   "source": [
    "def sum_with_kwargs(**kwargs):\n",
    "  total_sum = sum(kwargs.values())\n",
    "  return total_sum\n",
    "\n",
    "# Example usage\n",
    "numbers_dict = {'a': 1, 'b': 2, 'c': 3, 'd': 4}\n",
    "sum_result = sum_with_kwargs(**numbers_dict)\n",
    "print(f\"Sum: {sum_result}\")"
   ]
  },
  {
   "cell_type": "code",
   "execution_count": null,
   "metadata": {},
   "outputs": [],
   "source": [
    "import math\n",
    "\n",
    "def area_square(*args):\n",
    "  if len(args) != 1:\n",
    "    raise ValueError(\"Square requires exactly one argument for the side length.\")\n",
    "  side = args[0]\n",
    "  return side * side\n",
    "\n",
    "def area_rectangle(**kwargs):\n",
    "  if 'length' not in kwargs or 'width' not in kwargs:\n",
    "    raise ValueError(\"Rectangle requires 'length' and 'width' as keyword arguments.\")\n",
    "  length = kwargs['length']\n",
    "  width = kwargs['width']\n",
    "  return length * width\n",
    "\n",
    "def area_circle(*args):\n",
    "  if len(args) != 1:\n",
    "    raise ValueError(\"Circle requires exactly one argument for the radius.\")\n",
    "  radius = args[0]\n",
    "  return math.pi * radius * radius\n",
    "\n",
    "# Example usage\n",
    "square_side = 4\n",
    "rectangle_length = 5\n",
    "rectangle_width = 3\n",
    "circle_radius = 2\n",
    "\n",
    "square_area = area_square(square_side)\n",
    "rectangle_area = area_rectangle(length=rectangle_length, width=rectangle_width)\n",
    "circle_area = area_circle(circle_radius)\n",
    "\n",
    "print(f\"Square area: {square_area}\")\n",
    "print(f\"Rectangle area: {rectangle_area}\")\n",
    "print(f\"Circle area: {circle_area}\")"
   ]
  },
  {
   "cell_type": "code",
   "execution_count": null,
   "metadata": {},
   "outputs": [],
   "source": []
  }
 ],
 "metadata": {
  "kernelspec": {
   "display_name": "Python 3",
   "language": "python",
   "name": "python3"
  },
  "language_info": {
   "codemirror_mode": {
    "name": "ipython",
    "version": 3
   },
   "file_extension": ".py",
   "mimetype": "text/x-python",
   "name": "python",
   "nbconvert_exporter": "python",
   "pygments_lexer": "ipython3",
   "version": "3.12.3"
  }
 },
 "nbformat": 4,
 "nbformat_minor": 2
}
