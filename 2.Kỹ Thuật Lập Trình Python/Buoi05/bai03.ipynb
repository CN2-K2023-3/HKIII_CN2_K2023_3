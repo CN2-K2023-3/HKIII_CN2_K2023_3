{
 "cells": [
  {
   "cell_type": "code",
   "execution_count": 2,
   "metadata": {},
   "outputs": [],
   "source": [
    "seqA = []"
   ]
  },
  {
   "cell_type": "code",
   "execution_count": 4,
   "metadata": {},
   "outputs": [
    {
     "name": "stdout",
     "output_type": "stream",
     "text": [
      "seqA = [26, -44.05, 9.34, -15.34, -25, -32, -25.89, -19.51, 11, 38, 8.46, 16.8, -69.33, 11.29, -76.49, -4.21, -8, -13.31, -32, -48, -68.32, -44, -67.22, -31.63, 27, -11.66, -48.79, -28, -58.74, 31, -61.99, 35, -14, 4.99, -71, -65, -77.59, 39, -64.88, -69.52, 20.9, -59, 27.38, 16, -47, -0.73, -46, -22, -40.22, -30, -57.88, -21.72, -52.35, 8, -76.59, -14, 7.0, 17, -46, -47.6, -25.25, -47, -41.23, 6, 8, -32.81, -16, -16, -42.73, -32.32, 38, 33.52]\n"
     ]
    }
   ],
   "source": [
    "# 1. Viết hàm khởi tạo giá trị tự động cho seqA gồm N phần tử các số nguyên (âm, dương) và số thực (âm, dương).\n",
    "# • N chọn ngẫu nhiên từ 30 đến 80.\n",
    "# • Các giá trị số nguyên, số thực chọn ngẫu nghiên từ -79 đến 39. Giá trị số thực được làm tròn 2 số thập phân.\n",
    "def init_seqA():\n",
    "  import random\n",
    "  N = random.randint(30, 80)\n",
    "  for i in range(N):\n",
    "    if random.randint(0, 1) == 0:\n",
    "      seqA.append(random.randint(-79, 39))\n",
    "    else:\n",
    "      seqA.append(round(random.uniform(-79, 39), 2))\n",
    "\n",
    "init_seqA()\n",
    "print(\"seqA =\", seqA)"
   ]
  },
  {
   "cell_type": "code",
   "execution_count": 6,
   "metadata": {},
   "outputs": [
    {
     "name": "stdout",
     "output_type": "stream",
     "text": [
      "26 is an integer\n",
      "-44.05 is a float\n",
      "9.34 is a float\n",
      "-15.34 is a float\n",
      "-25 is an integer\n",
      "-32 is an integer\n",
      "-25.89 is a float\n",
      "-19.51 is a float\n",
      "11 is an integer\n",
      "38 is an integer\n",
      "8.46 is a float\n",
      "16.8 is a float\n",
      "-69.33 is a float\n",
      "11.29 is a float\n",
      "-76.49 is a float\n",
      "-4.21 is a float\n",
      "-8 is an integer\n",
      "-13.31 is a float\n",
      "-32 is an integer\n",
      "-48 is an integer\n",
      "-68.32 is a float\n",
      "-44 is an integer\n",
      "-67.22 is a float\n",
      "-31.63 is a float\n",
      "27 is an integer\n",
      "-11.66 is a float\n",
      "-48.79 is a float\n",
      "-28 is an integer\n",
      "-58.74 is a float\n",
      "31 is an integer\n",
      "-61.99 is a float\n",
      "35 is an integer\n",
      "-14 is an integer\n",
      "4.99 is a float\n",
      "-71 is an integer\n",
      "-65 is an integer\n",
      "-77.59 is a float\n",
      "39 is an integer\n",
      "-64.88 is a float\n",
      "-69.52 is a float\n",
      "20.9 is a float\n",
      "-59 is an integer\n",
      "27.38 is a float\n",
      "16 is an integer\n",
      "-47 is an integer\n",
      "-0.73 is a float\n",
      "-46 is an integer\n",
      "-22 is an integer\n",
      "-40.22 is a float\n",
      "-30 is an integer\n",
      "-57.88 is a float\n",
      "-21.72 is a float\n",
      "-52.35 is a float\n",
      "8 is an integer\n",
      "-76.59 is a float\n",
      "-14 is an integer\n",
      "7.0 is a float\n",
      "17 is an integer\n",
      "-46 is an integer\n",
      "-47.6 is a float\n",
      "-25.25 is a float\n",
      "-47 is an integer\n",
      "-41.23 is a float\n",
      "6 is an integer\n",
      "8 is an integer\n",
      "-32.81 is a float\n",
      "-16 is an integer\n",
      "-16 is an integer\n",
      "-42.73 is a float\n",
      "-32.32 is a float\n",
      "38 is an integer\n",
      "33.52 is a float\n"
     ]
    }
   ],
   "source": [
    "# 2. Viết hàm kiểm tra kiểu dữ liệu từng phần tử.\n",
    "def check_type(list):\n",
    "  for i in list:\n",
    "    if type(i) == int:\n",
    "      print(i, \"is an integer\")\n",
    "    else:\n",
    "      print(i, \"is a float\")\n",
    "\n",
    "check_type(seqA)\n"
   ]
  },
  {
   "cell_type": "code",
   "execution_count": 7,
   "metadata": {},
   "outputs": [
    {
     "name": "stdout",
     "output_type": "stream",
     "text": [
      "Number of integers: 33\n",
      "Number of floats: 39\n"
     ]
    }
   ],
   "source": [
    "# 3. Viết hàm thống kê số lượng phần tử có trong seqA.\n",
    "def count_elements(list):\n",
    "  count_int = 0\n",
    "  count_float = 0\n",
    "  for i in list:\n",
    "    if type(i) == int:\n",
    "      count_int += 1\n",
    "    else:\n",
    "      count_float += 1\n",
    "  print(\"Number of integers:\", count_int)\n",
    "  print(\"Number of floats:\", count_float)\n",
    "\n",
    "count_elements(seqA)"
   ]
  },
  {
   "cell_type": "code",
   "execution_count": 9,
   "metadata": {},
   "outputs": [
    {
     "name": "stdout",
     "output_type": "stream",
     "text": [
      "seqB = [-77.59, -76.59, -76.49, -71, -69.52, -69.33, -68.32, -67.22, -65, -64.88, -61.99, -59, -58.74, -57.88, -52.35, -48.79, -48, -47.6, -47, -47, -46, -46, -44.05, -44, -42.73, -41.23, -40.22, -32.81, -32.32, -32, -32, -31.63, -30, -28, -25.89, -25.25, -25, -22, -21.72, -19.51, -16, -16, -15.34, -14, -14, -13.31, -11.66, -8, -4.21, -0.73, 4.99, 6, 7.0, 8, 8, 8.46, 9.34, 11, 11.29, 16, 16.8, 17, 20.9, 26, 27, 27.38, 31, 33.52, 35, 38, 38, 39]\n"
     ]
    }
   ],
   "source": [
    "# 4. Viết hàm sắp xếp dãy seqA thành dãy seqB tăng dần.\n",
    "def sort_list(list):\n",
    "  new_list = sorted(list)\n",
    "  return new_list\n",
    "\n",
    "seqB = sort_list(seqA)\n",
    "print(\"seqB =\", seqB)"
   ]
  },
  {
   "cell_type": "code",
   "execution_count": 10,
   "metadata": {},
   "outputs": [
    {
     "name": "stdout",
     "output_type": "stream",
     "text": [
      "Average of seqA: -21.80861111111111\n",
      "Average of seqB: -21.808611111111112\n"
     ]
    }
   ],
   "source": [
    "# 5. Viết hàm tính trung bình các phần tử trong seqA.\n",
    "def average(list):\n",
    "  sum = 0\n",
    "  for i in list:\n",
    "    sum += i\n",
    "  return sum / len(list)\n",
    "\n",
    "print(\"Average of seqA:\", average(seqA))\n",
    "print(\"Average of seqB:\", average(seqB))"
   ]
  },
  {
   "cell_type": "code",
   "execution_count": null,
   "metadata": {},
   "outputs": [
    {
     "name": "stdout",
     "output_type": "stream",
     "text": [
      "Average between two middle elements of seqB: -25.125\n"
     ]
    }
   ],
   "source": [
    "# 6. Viết hàm tính giá trị trung bình giữa hai phần tử nằm giữa trong dãy seqB\n",
    "# khi N chẵn. Khi N lẻ, thì hàm tính trả về giá trị nằm giữa.\n",
    "def average_between(list):\n",
    "  if len(list) % 2 == 0:\n",
    "    return (list[len(list) // 2 - 1] + list[len(list) // 2]) / 2\n",
    "  else:\n",
    "    return list[len(list) // 2]\n",
    "\n",
    "print(\"Average between two middle elements of seqB:\", average_between(seqB))"
   ]
  },
  {
   "cell_type": "code",
   "execution_count": 12,
   "metadata": {},
   "outputs": [
    {
     "name": "stdout",
     "output_type": "stream",
     "text": [
      "Distance between max and min of seqA: 116.59\n",
      "Distance between max and min of seqB: 116.59\n"
     ]
    }
   ],
   "source": [
    "# 7. Viết hàm tính khoảng cách giữa hai giá trị max, min trong dãy seqA hoặc seqB.\n",
    "def distance(list):\n",
    "  return max(list) - min(list)\n",
    "\n",
    "print(\"Distance between max and min of seqA:\", distance(seqA))\n",
    "print(\"Distance between max and min of seqB:\", distance(seqB))"
   ]
  },
  {
   "cell_type": "code",
   "execution_count": 13,
   "metadata": {},
   "outputs": [
    {
     "name": "stdout",
     "output_type": "stream",
     "text": [
      "Compare average of seqA and average between two middle elements of seqB: True\n"
     ]
    }
   ],
   "source": [
    "# 8. Viết hàm so sánh các kết quả của của câu 5 và câu 6.\n",
    "# • Nếu kết quả của câu 5 lớn hơn kết quả của câu 6 thì trả về True.\n",
    "# • Ngược lại trả về False.\n",
    "def compare(list):\n",
    "  if average(list) > average_between(list):\n",
    "    return True\n",
    "  else:\n",
    "    return False\n",
    "\n",
    "print(\"Compare average of seqA and average between two middle elements of seqB:\", compare(seqA))"
   ]
  }
 ],
 "metadata": {
  "kernelspec": {
   "display_name": "Python 3",
   "language": "python",
   "name": "python3"
  },
  "language_info": {
   "codemirror_mode": {
    "name": "ipython",
    "version": 3
   },
   "file_extension": ".py",
   "mimetype": "text/x-python",
   "name": "python",
   "nbconvert_exporter": "python",
   "pygments_lexer": "ipython3",
   "version": "3.12.3"
  }
 },
 "nbformat": 4,
 "nbformat_minor": 2
}
