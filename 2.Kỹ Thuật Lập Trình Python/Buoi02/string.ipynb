{
 "cells": [
  {
   "cell_type": "code",
   "execution_count": 7,
   "metadata": {},
   "outputs": [
    {
     "name": "stdout",
     "output_type": "stream",
     "text": [
      "var1[7]: I\n",
      "var2[9:15]: Python\n"
     ]
    }
   ],
   "source": [
    "var1 =  \"Hello UIT\"\n",
    "var2 = \"Nhap mon Python\"\n",
    "\n",
    "print(\"var1[7]:\", var1[7])\n",
    "\n",
    "print(\"var2[9:15]:\", var2[9:15])"
   ]
  },
  {
   "cell_type": "code",
   "execution_count": 9,
   "metadata": {},
   "outputs": [
    {
     "name": "stdout",
     "output_type": "stream",
     "text": [
      "['Đại học Quốc gia', ' Khu phố 6', ' P.Linh Trung', ' Q.Thủ Đức', ' Tp.Hồ Chí Minh']\n"
     ]
    }
   ],
   "source": [
    "str_1 = \"Đại học Quốc gia, Khu phố 6, P.Linh Trung, Q.Thủ Đức, Tp.Hồ Chí Minh\"\n",
    "\n",
    "sub_str = str_1.split(\",\")\n",
    "\n",
    "print(sub_str)"
   ]
  },
  {
   "cell_type": "code",
   "execution_count": null,
   "metadata": {},
   "outputs": [],
   "source": []
  },
  {
   "cell_type": "code",
   "execution_count": null,
   "metadata": {},
   "outputs": [],
   "source": []
  },
  {
   "cell_type": "code",
   "execution_count": null,
   "metadata": {},
   "outputs": [],
   "source": []
  },
  {
   "cell_type": "code",
   "execution_count": null,
   "metadata": {},
   "outputs": [],
   "source": []
  }
 ],
 "metadata": {
  "kernelspec": {
   "display_name": "Python 3",
   "language": "python",
   "name": "python3"
  },
  "language_info": {
   "codemirror_mode": {
    "name": "ipython",
    "version": 3
   },
   "file_extension": ".py",
   "mimetype": "text/x-python",
   "name": "python",
   "nbconvert_exporter": "python",
   "pygments_lexer": "ipython3",
   "version": "3.12.3"
  }
 },
 "nbformat": 4,
 "nbformat_minor": 2
}
