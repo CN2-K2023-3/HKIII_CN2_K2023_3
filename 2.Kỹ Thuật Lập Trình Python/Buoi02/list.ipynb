{
 "cells": [
  {
   "cell_type": "code",
   "execution_count": 10,
   "metadata": {},
   "outputs": [
    {
     "name": "stdout",
     "output_type": "stream",
     "text": [
      "[1, 3, 4, 6, 8, 9]\n",
      "[9, 8, 6, 4, 3, 1]\n"
     ]
    }
   ],
   "source": [
    "ds = [1, 9, 4, 8, 3, 6]\n",
    "ds.sort()\n",
    "\n",
    "print(ds) \n",
    "\n",
    "ds.sort(reverse=True)\n",
    "print(ds)"
   ]
  },
  {
   "cell_type": "code",
   "execution_count": 11,
   "metadata": {},
   "outputs": [
    {
     "name": "stdout",
     "output_type": "stream",
     "text": [
      "First element: mot, Last element: nam, Middle element: ba\n"
     ]
    }
   ],
   "source": [
    "mylist = [\"mot\", 2, \"ba\", 4, \"nam\"]\n",
    "\n",
    "first_ele = mylist[0]\n",
    "last_ele = mylist[-1]\n",
    "middle_ele = mylist[len(mylist) // 2]\n",
    "\n",
    "print(f\"First element: {first_ele}, Last element: {last_ele}, Middle element: {middle_ele}\")\n"
   ]
  },
  {
   "cell_type": "code",
   "execution_count": 12,
   "metadata": {},
   "outputs": [
    {
     "name": "stdout",
     "output_type": "stream",
     "text": [
      "Slice from [1:3]: [2, 'ba']\n"
     ]
    }
   ],
   "source": [
    "begin = int(input(\"Enter the begin index: \"))\n",
    "end = int(input(\"Enter the end index: \"))\n",
    "print(f\"Slice from [{begin}:{end}]: {mylist[begin:end]}\")\n"
   ]
  },
  {
   "cell_type": "code",
   "execution_count": 13,
   "metadata": {},
   "outputs": [
    {
     "name": "stdout",
     "output_type": "stream",
     "text": [
      "['mot', 'bay', 2, 2, 4, 6]\n"
     ]
    }
   ],
   "source": [
    "mylist.append(6)\n",
    "mylist[2] = 2\n",
    "mylist.remove(\"nam\")\n",
    "mylist.insert(1, \"bay\")\n",
    "\n",
    "print(mylist)"
   ]
  },
  {
   "cell_type": "code",
   "execution_count": 19,
   "metadata": {},
   "outputs": [
    {
     "name": "stdout",
     "output_type": "stream",
     "text": [
      "Set2 is subset of Set1: True\n",
      "Set1 is superset of Set2: True\n"
     ]
    }
   ],
   "source": [
    "set1 = {12, 24, 36, 48, 60, 59, 18, 42, 33, 27} \n",
    "set2 = {18, 12, 60, 18, 36, 42, 60, 59, 24, 36}\n",
    "\n",
    "is_subset = set2.issubset(set1)\n",
    "is_superset = set1.issuperset(set2)\n",
    "\n",
    "print(f\"Set2 is subset of Set1: {is_subset}\")\n",
    "print(f\"Set1 is superset of Set2: {is_superset}\")\n",
    "\n"
   ]
  },
  {
   "cell_type": "code",
   "execution_count": null,
   "metadata": {},
   "outputs": [],
   "source": []
  }
 ],
 "metadata": {
  "kernelspec": {
   "display_name": "Python 3",
   "language": "python",
   "name": "python3"
  },
  "language_info": {
   "codemirror_mode": {
    "name": "ipython",
    "version": 3
   },
   "file_extension": ".py",
   "mimetype": "text/x-python",
   "name": "python",
   "nbconvert_exporter": "python",
   "pygments_lexer": "ipython3",
   "version": "3.12.3"
  }
 },
 "nbformat": 4,
 "nbformat_minor": 2
}
